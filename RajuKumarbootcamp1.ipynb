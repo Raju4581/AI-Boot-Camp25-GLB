{
  "nbformat": 4,
  "nbformat_minor": 0,
  "metadata": {
    "colab": {
      "provenance": []
    },
    "kernelspec": {
      "name": "python3",
      "display_name": "Python 3"
    },
    "language_info": {
      "name": "python"
    }
  },
  "cells": [
    {
      "cell_type": "code",
      "execution_count": 3,
      "metadata": {
        "colab": {
          "base_uri": "https://localhost:8080/"
        },
        "id": "O6z3kJricrE5",
        "outputId": "d259667e-1fb5-477c-9d64-ee4c8062bf9d"
      },
      "outputs": [
        {
          "output_type": "stream",
          "name": "stdout",
          "text": [
            "Hello World!\n"
          ]
        }
      ],
      "source": [
        "#printing hellow world program\n",
        "print(\"Hello World!\")\n"
      ]
    },
    {
      "cell_type": "code",
      "source": [
        "a=1\n",
        "print(type(a))\n",
        "print(\"Value of a =\",a)\n",
        "\n",
        "b=\"Simple text\"\n",
        "print(type(b))\n",
        "print(\"value of b=\",b)"
      ],
      "metadata": {
        "colab": {
          "base_uri": "https://localhost:8080/"
        },
        "id": "SjYv7dNei8FL",
        "outputId": "4aec8980-4fab-4267-af1a-01642e894cb7"
      },
      "execution_count": 10,
      "outputs": [
        {
          "output_type": "stream",
          "name": "stdout",
          "text": [
            "<class 'int'>\n",
            "Value of a = 1\n",
            "<class 'str'>\n",
            "value of b= Simple text\n"
          ]
        }
      ]
    }
  ]
}